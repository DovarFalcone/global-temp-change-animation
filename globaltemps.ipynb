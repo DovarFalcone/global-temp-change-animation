{
 "cells": [
  {
   "cell_type": "code",
   "execution_count": 28,
   "metadata": {},
   "outputs": [
    {
     "name": "stdout",
     "output_type": "stream",
     "text": [
      "\\ Running year 2021..."
     ]
    }
   ],
   "source": [
    "import geopandas as gpd\n",
    "import pandas as pd\n",
    "import matplotlib.pyplot as plt\n",
    "import imageio.v2 as imageio\n",
    "import itertools\n",
    "\n",
    "spinner = itertools.cycle(['-', '/', '|', '\\\\'])\n",
    "\n",
    "# Read the datasets\n",
    "df = pd.read_csv('iso3change.csv')\n",
    "world_temp = pd.read_csv('worldtemp.csv', index_col=0)\n",
    "\n",
    "# Extract the world average change for each year\n",
    "world_avg_change = world_temp.loc['world', df.columns[1:]].values\n",
    "\n",
    "# Melt the dataframe to long format\n",
    "df_melted = df.melt(id_vars=['iso3'], var_name='year', value_name='change_index')\n",
    "\n",
    "# Read the world map shapefile using geopandas\n",
    "world = gpd.read_file(gpd.datasets.get_path('naturalearth_lowres'))\n",
    "\n",
    "# Loop over each year and create the corresponding map\n",
    "images = []\n",
    "for year in df.columns[1:]:\n",
    "    print(f\"\\r{next(spinner)} Running year {year}...\", end=\"\")\n",
    "    # Merge the map with the dataset for the current year\n",
    "    merged = world.merge(df_melted[df_melted['year']==year], left_on='iso_a3', right_on='iso3', how='left')\n",
    "    \n",
    "    # Plot the map for the current year\n",
    "    fig, ax = plt.subplots(figsize=(10, 5), facecolor='#2c2c2c')\n",
    "    merged.plot(column='change_index', cmap='coolwarm', vmin=-2, vmax=2, ax=ax)\n",
    "    ax.axis('off')\n",
    "    ax.set_title(f'Global Surface Temperature Change ({year})', color='white')\n",
    "    # Add color bar to the plot\n",
    "    cax = fig.add_axes([0.2, 0.15, 0.6, 0.02]) # [left, bottom, width, height]\n",
    "    im = ax.collections[0]\n",
    "    cb = plt.colorbar(im, cax=cax, orientation='horizontal', label='Global Average Change')\n",
    "    cb.ax.xaxis.label.set_color('white')  # set the color of the label to white\n",
    "    cb.ax.tick_params(colors='white')\n",
    "\n",
    "    # Get the current world average temperature change for the year\n",
    "    world_avg_temp = world_temp.loc['world', year]\n",
    "\n",
    "    # Add a marker on the color bar for the world average temperature change\n",
    "    cb.ax.plot([world_avg_temp], [1.5], 'v', color='black', markeredgecolor='black', markersize=20)\n",
    "    cb.ax.axvline(world_avg_temp, color='black', lw=1.5)\n",
    "    cb.ax.annotate(f'{world_avg_temp:.2f}', xy=(world_avg_temp, 1.5), xytext=(world_avg_temp, 1.7),\n",
    "                   fontsize=8, ha='center', va='center',\n",
    "                   arrowprops=dict(arrowstyle='->', color='black', lw=0.5))\n",
    "    \n",
    "    # Set the title below the color bar\n",
    "    plt.suptitle(f'Celsius', fontsize=8, y=0.05, color='white')\n",
    "    \n",
    "    # Save the map as an image file\n",
    "    filename = f'./images/{year}.png'\n",
    "    plt.savefig(filename, dpi=300)\n",
    "    images.append(imageio.imread(filename))\n",
    "    plt.close()\n",
    "# Create the animated gif from the images\n",
    "imageio.mimsave('./gif/temperature_change_FINAL.gif', images, fps=1.75)\n"
   ]
  }
 ],
 "metadata": {
  "kernelspec": {
   "display_name": "temps",
   "language": "python",
   "name": "python3"
  },
  "language_info": {
   "codemirror_mode": {
    "name": "ipython",
    "version": 3
   },
   "file_extension": ".py",
   "mimetype": "text/x-python",
   "name": "python",
   "nbconvert_exporter": "python",
   "pygments_lexer": "ipython3",
   "version": "3.10.9"
  },
  "orig_nbformat": 4,
  "vscode": {
   "interpreter": {
    "hash": "3e50feec2371982de44cbda7ab27909fbaa90c36cbbf0407db37c28f7705aa70"
   }
  }
 },
 "nbformat": 4,
 "nbformat_minor": 2
}
